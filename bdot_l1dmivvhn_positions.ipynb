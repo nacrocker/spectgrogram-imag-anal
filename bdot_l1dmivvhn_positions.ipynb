{
 "cells": [
  {
   "cell_type": "code",
   "execution_count": 14,
   "metadata": {},
   "outputs": [],
   "source": [
    "import numpy as np\n",
    "bdottorangle=[]\n",
    "bdotcoilind=[]\n",
    "bdottorangle.append(30.)\n",
    "bdotcoilind.append(3)\n",
    "bdottorangle.append(50.)\n",
    "bdotcoilind.append(2)\n",
    "bdottorangle.append(60.)\n",
    "bdotcoilind.append(1)\n",
    "bdottorangle.append(155.)    #new numbers not available for these coils\n",
    "bdotcoilind.append(16)\n",
    "bdottorangle.append(170.)\n",
    "bdotcoilind.append(15)\n",
    "bdottorangle.append(180.)    #360-195.36+60\n",
    "bdotcoilind.append(14)\n",
    "bdottorangle.append(268.)    #360-152.07+60\n",
    "bdotcoilind.append(13)\n",
    "bdottorangle.append(291.)    #360-131.24+60\n",
    "bdotcoilind.append(10)\n",
    "bdottorangle.append(300.)    #360-120.83+60\n",
    "bdotcoilind.append(7)\n",
    "bdottorangle.append(330.)    #360-90.2+60\n",
    "bdotcoilind.append(6)\n",
    "bdottorangle.append(350.)   #360-69.96+60\n",
    "bdotcoilind.append(5)\n",
    "bdottorangle.append(360.)   #360-59.98+60\n",
    "bdotcoilind.append(4)\n",
    "bdottorangle=np.array(bdottorangle)\n",
    "bdotcoilind=np.array(bdotcoilind)\n",
    "bdotname = ['%s%d_RAW'%(r'\\OPS_PC::BDOT_L1DMIVVHN',bdci) for bdci in bdotcoilind]"
   ]
  }
 ],
 "metadata": {
  "kernelspec": {
   "display_name": "omfit_unstable_temp",
   "language": "python",
   "name": "omfit_unstable_temp"
  },
  "language_info": {
   "codemirror_mode": {
    "name": "ipython",
    "version": 3
   },
   "file_extension": ".py",
   "mimetype": "text/x-python",
   "name": "python",
   "nbconvert_exporter": "python",
   "pygments_lexer": "ipython3",
   "version": "3.7.10"
  },
  "widgets": {
   "application/vnd.jupyter.widget-state+json": {
    "state": {},
    "version_major": 2,
    "version_minor": 0
   }
  }
 },
 "nbformat": 4,
 "nbformat_minor": 4
}

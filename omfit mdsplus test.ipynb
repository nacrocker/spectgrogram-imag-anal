{
 "cells": [
  {
   "cell_type": "code",
   "execution_count": 1,
   "metadata": {},
   "outputs": [
    {
     "name": "stdout",
     "output_type": "stream",
     "text": [
      "env: DISPLAY=192.103.13.69:0.0\n"
     ]
    }
   ],
   "source": [
    "%set_env DISPLAY=192.103.13.69:0.0"
   ]
  },
  {
   "cell_type": "code",
   "execution_count": 2,
   "metadata": {},
   "outputs": [
    {
     "name": "stdout",
     "output_type": "stream",
     "text": [
      "Setting up environment...\n",
      "================================================================================\n",
      "Warning: The following user-defined paths have been removed from your Python environment:\n",
      "  /u/ncrocker/.local/lib/python3.7/site-packages\n",
      "To use your original Python environment set OMFIT_CLEAN_PYTHON_ENVIRONMENT=0\n",
      "================================================================================\n",
      "External imports...\n",
      "Sanity check Python packages required by OMFIT\n",
      "Loading utility functions...\n",
      "Loading plot utility functions...\n",
      "Loading math utility functions...\n",
      "Loading fit utility functions...\n",
      "Loading fusion utility functions...\n",
      "Loading widgets utility functions...\n",
      "Loading tk functions...\n",
      "--------------------\n",
      "Linux jupyterhub-srv.pppl.gov 3.10.0-1160.31.1.el7.x86_64 #1 SMP Thu Jun 10 13:32:12 UTC 2021 x86_64 x86_64\n",
      "v3.2021.26-51-g6b4bbe9c2e on branch unstable\n",
      "Python executable     : /u/ncrocker/.venv/omfit_unstable/bin/python\n",
      "Installation type     : PUBLIC\n",
      "OMFITstartDir         : /u/ncrocker\n",
      "OMFITsrc              : /p/omfit/atom_omfit3/OMFIT-source_unstable/omfit\n",
      "OMFITsettingsDir      : /u/ncrocker/.OMFIT\n",
      "OMFITsessionsDir      : /tmp/ncrocker/OMFIT_local/sessions\n",
      "OMFITcontrolmastersDir: /tmp/ncrocker/OMFIT_local/controlmasters\n",
      "OMFITscriptsBackupDir : /tmp/ncrocker/OMFIT_scripts_backup\n",
      "OMFITautosaveDir      : /tmp/ncrocker/OMFIT_projects_autosave\n",
      "OMFITtmpDir           : /tmp/ncrocker/OMFIT\n",
      "OMFITsessionDir       : /tmp/ncrocker/OMFIT/OMFIT_2021-07-09_20_11_57_708589\n",
      "OMFITcwd              : /tmp/ncrocker/OMFIT/OMFIT_2021-07-09_20_11_57_708589/project\n",
      "--------------------\n",
      "Time to load startup_framework: 10.072 seconds\n",
      "Loading OMFIT APIs...\n",
      "Loaded OMFIT classes:\n",
      " 1)accome            2)ascii             3)asciitable        4)base             \n",
      " 5)bibtex            6)boundary          7)bout              8)brainfuse        \n",
      " 9)cdb              10)chease           11)chombo           12)coils            \n",
      "13)cotsim           14)csv              15)ctrl_analysis    16)data             \n",
      "17)dir              18)dmp              19)efit             20)efitviewer       \n",
      "21)efund            22)elite            23)elm              24)environment      \n",
      "25)eped             26)eqdsk            27)error            28)fastran          \n",
      "29)focus            30)formatter        31)gacode           32)gaprofiles       \n",
      "33)gapy             34)gato             35)genray           36)gingred          \n",
      "37)github           38)gks              39)gnuplot          40)google_sheet     \n",
      "41)gpec             42)gptools          43)harvest          44)hdf5             \n",
      "45)helena           46)idl              47)idlSav           48)ini              \n",
      "49)interface        50)ionorb           51)jscope           52)jsolver          \n",
      "53)json             54)kepler           55)latex            56)mars             \n",
      "57)matlab           58)matrix           59)mds              60)namelist         \n",
      "61)nc               62)nimrod           63)oedge            64)omas             \n",
      "65)omas_d3d         66)omas_east        67)omas_kstar       68)omas_utils       \n",
      "69)onetwo           70)osborne          71)patch            72)path             \n",
      "73)pdb              74)profiles         75)python           76)rabbit           \n",
      "77)rdb              78)reviewplus       79)slack            80)solps            \n",
      "81)spider           82)strahl           83)testing          84)tglf             \n",
      "85)thomson          86)timcon           87)toksearch        88)toq              \n",
      "89)transp           90)trip3d           91)tsc              92)uda              \n",
      "93)uedge            94)ufile            95)weblink          96)xml              \n",
      "Time to load omfit_tree: 13.4648 seconds\n"
     ]
    }
   ],
   "source": [
    "from omfit.omfit_tree import *"
   ]
  },
  {
   "cell_type": "code",
   "execution_count": null,
   "metadata": {},
   "outputs": [],
   "source": [
    "#don't use %matplotlib inline.  It messes with omfit    \n",
    "def show_fig(filename='jupyter_plot.png'):\n",
    "    import matplotlib.pyplot as plt\n",
    "    from IPython.display import Image, display\n",
    "    plt.savefig(filename)\n",
    "    display(Image(filename=filename))\n",
    "\n",
    "def test_show_fig():\n",
    "    import matplotlib.pyplot as plt\n",
    "    plt.figure()\n",
    "    plt.plot([1,2,3])\n",
    "    show_fig()\n",
    "\n",
    "test_show_fig()"
   ]
  },
  {
   "cell_type": "code",
   "execution_count": 3,
   "metadata": {},
   "outputs": [],
   "source": [
    "from omfit_classes import *"
   ]
  },
  {
   "cell_type": "code",
   "execution_count": 4,
   "metadata": {},
   "outputs": [],
   "source": [
    "tree=OMFIT['141398']=OMFITtree('')\n",
    "ip=tree['ip'] = OMFITmdsValue(server='NSTX', shot=141398, TDI='\\ip', treename='NSTX')"
   ]
  },
  {
   "cell_type": "code",
   "execution_count": 5,
   "metadata": {},
   "outputs": [
    {
     "data": {
      "text/plain": [
       "[<matplotlib.lines.Line2D at 0x7fba4f70f850>]"
      ]
     },
     "execution_count": 5,
     "metadata": {},
     "output_type": "execute_result"
    }
   ],
   "source": [
    "#don't use %matplotlib inline.  It messes with omfit    \n",
    "import matplotlib.pyplot as plt\n",
    "plt.figure()\n",
    "plt.plot(ip.dim_of(0),ip.data())\n",
    "#show_fig()"
   ]
  },
  {
   "cell_type": "code",
   "execution_count": 6,
   "metadata": {},
   "outputs": [
    {
     "data": {
      "text/plain": [
       "{'PATH': '/u/ncrocker/.venv/omfit_unstable/bin:/usr/pppl/git/2.27.0/bin:/bin:/usr/local/sbin:/usr/local/bin:/usr/sbin:/usr/bin:/opt/jupyterhub/bin',\n",
       " 'LANG': 'en_US.UTF-8',\n",
       " 'JUPYTERHUB_API_TOKEN': '<hidden>',\n",
       " 'JPY_API_TOKEN': '<hidden>',\n",
       " 'JUPYTERHUB_CLIENT_ID': 'jupyterhub-user-ncrocker',\n",
       " 'JUPYTERHUB_HOST': '',\n",
       " 'JUPYTERHUB_OAUTH_CALLBACK_URL': '/user/ncrocker/oauth_callback',\n",
       " 'JUPYTERHUB_USER': 'ncrocker',\n",
       " 'JUPYTERHUB_SERVER_NAME': '',\n",
       " 'JUPYTERHUB_API_URL': 'http://172.16.2.26:8081/hub/api',\n",
       " 'JUPYTERHUB_ACTIVITY_URL': 'http://172.16.2.26:8081/hub/api/users/ncrocker/activity',\n",
       " 'JUPYTERHUB_BASE_URL': '/',\n",
       " 'JUPYTERHUB_SERVICE_PREFIX': '/user/ncrocker/',\n",
       " 'USER': 'ncrocker',\n",
       " 'HOME': '/u/ncrocker',\n",
       " 'SHELL': '/bin/tcsh',\n",
       " 'GIT_PYTHON_REFRESH': 'quiet',\n",
       " 'JPY_PARENT_PID': '60553',\n",
       " 'TERM': 'xterm-color',\n",
       " 'CLICOLOR': '1',\n",
       " 'PAGER': 'cat',\n",
       " 'GIT_PAGER': 'cat',\n",
       " 'MPLBACKEND': 'module://matplotlib_inline.backend_inline',\n",
       " 'DISPLAY': '192.103.13.69:0.0',\n",
       " 'LC_ALL': 'en_US.UTF-8',\n",
       " 'LC_CTYPE': 'en_US.UTF-8',\n",
       " 'ORIGINAL_PATH': '/usr/pppl/git/2.27.0/bin:/bin:/usr/local/sbin:/usr/local/bin:/usr/sbin:/usr/bin:/opt/jupyterhub/bin',\n",
       " 'HOST': '',\n",
       " 'VPN_ACTIVE': ''}"
      ]
     },
     "execution_count": 6,
     "metadata": {},
     "output_type": "execute_result"
    }
   ],
   "source": [
    "%env"
   ]
  },
  {
   "cell_type": "code",
   "execution_count": 7,
   "metadata": {},
   "outputs": [
    {
     "data": {
      "text/plain": [
       "'TkAgg'"
      ]
     },
     "execution_count": 7,
     "metadata": {},
     "output_type": "execute_result"
    }
   ],
   "source": [
    "import matplotlib\n",
    "matplotlib.get_backend()"
   ]
  },
  {
   "cell_type": "code",
   "execution_count": null,
   "metadata": {},
   "outputs": [],
   "source": [
    "%env"
   ]
  },
  {
   "cell_type": "code",
   "execution_count": null,
   "metadata": {},
   "outputs": [],
   "source": []
  }
 ],
 "metadata": {
  "kernelspec": {
   "display_name": "omfit_unstable",
   "language": "python",
   "name": "omfit_unstable"
  },
  "language_info": {
   "codemirror_mode": {
    "name": "ipython",
    "version": 3
   },
   "file_extension": ".py",
   "mimetype": "text/x-python",
   "name": "python",
   "nbconvert_exporter": "python",
   "pygments_lexer": "ipython3",
   "version": "3.7.10"
  },
  "widgets": {
   "application/vnd.jupyter.widget-state+json": {
    "state": {},
    "version_major": 2,
    "version_minor": 0
   }
  }
 },
 "nbformat": 4,
 "nbformat_minor": 4
}
